{
 "cells": [
  {
   "cell_type": "code",
   "execution_count": 1,
   "id": "94e882c4",
   "metadata": {},
   "outputs": [],
   "source": [
    "import numpy as np\n",
    "\n",
    "import pandas as pd\n",
    "\n",
    "import matplotlib.pyplot as plt\n",
    "\n",
    "import seaborn as sns\n",
    "\n",
    "sns.set_style('darkgrid')\n",
    "\n",
    "sns.set_context('paper', font_scale = 1.4)\n",
    "\n",
    "from plotly import express as exp, graph_objects as go, io as pio\n",
    "\n",
    "pio.templates.default = 'ggplot2'\n",
    "\n",
    "from plotly.subplots import make_subplots\n",
    "\n",
    "from pandas_utils.pandas_utils_2 import *\n",
    "\n",
    "import ipywidgets as widgets\n",
    "\n",
    "from IPython.display import display\n",
    "\n",
    "import warnings\n",
    "\n",
    "\n",
    "warnings.filterwarnings(\"ignore\", category=DeprecationWarning)\n",
    "\n",
    "warnings.filterwarnings(\"ignore\", category=FutureWarning)\n",
    "    "
   ]
  },
  {
   "cell_type": "code",
   "execution_count": 2,
   "id": "d1623b28",
   "metadata": {},
   "outputs": [
    {
     "data": {
      "text/plain": [
       "((334363, 2), (10716, 8))"
      ]
     },
     "execution_count": 2,
     "metadata": {},
     "output_type": "execute_result"
    }
   ],
   "source": [
    "offers_df = pd.read_csv(\"./datasets/data_offers.csv\")\n",
    "\n",
    "orders_df = pd.read_csv(\"./datasets/data_orders.csv\")\n",
    "\n",
    "\n",
    "offers_df.shape, orders_df.shape"
   ]
  },
  {
   "cell_type": "code",
   "execution_count": 3,
   "id": "c7adf571",
   "metadata": {},
   "outputs": [
    {
     "data": {
      "text/html": [
       "<div>\n",
       "<style scoped>\n",
       "    .dataframe tbody tr th:only-of-type {\n",
       "        vertical-align: middle;\n",
       "    }\n",
       "\n",
       "    .dataframe tbody tr th {\n",
       "        vertical-align: top;\n",
       "    }\n",
       "\n",
       "    .dataframe thead th {\n",
       "        text-align: right;\n",
       "    }\n",
       "</style>\n",
       "<table border=\"1\" class=\"dataframe\">\n",
       "  <thead>\n",
       "    <tr style=\"text-align: right;\">\n",
       "      <th></th>\n",
       "      <th>order_gk</th>\n",
       "      <th>offer_id</th>\n",
       "    </tr>\n",
       "  </thead>\n",
       "  <tbody>\n",
       "    <tr>\n",
       "      <th>0</th>\n",
       "      <td>3000579625629</td>\n",
       "      <td>300050936206</td>\n",
       "    </tr>\n",
       "    <tr>\n",
       "      <th>1</th>\n",
       "      <td>3000627306450</td>\n",
       "      <td>300052064651</td>\n",
       "    </tr>\n",
       "  </tbody>\n",
       "</table>\n",
       "</div>"
      ],
      "text/plain": [
       "        order_gk      offer_id\n",
       "0  3000579625629  300050936206\n",
       "1  3000627306450  300052064651"
      ]
     },
     "execution_count": 3,
     "metadata": {},
     "output_type": "execute_result"
    }
   ],
   "source": [
    "offers_df.head(2)"
   ]
  },
  {
   "cell_type": "code",
   "execution_count": 4,
   "id": "9b8585a9",
   "metadata": {},
   "outputs": [
    {
     "data": {
      "text/html": [
       "<div>\n",
       "<style scoped>\n",
       "    .dataframe tbody tr th:only-of-type {\n",
       "        vertical-align: middle;\n",
       "    }\n",
       "\n",
       "    .dataframe tbody tr th {\n",
       "        vertical-align: top;\n",
       "    }\n",
       "\n",
       "    .dataframe thead th {\n",
       "        text-align: right;\n",
       "    }\n",
       "</style>\n",
       "<table border=\"1\" class=\"dataframe\">\n",
       "  <thead>\n",
       "    <tr style=\"text-align: right;\">\n",
       "      <th></th>\n",
       "      <th>order_datetime</th>\n",
       "      <th>origin_longitude</th>\n",
       "      <th>origin_latitude</th>\n",
       "      <th>m_order_eta</th>\n",
       "      <th>order_gk</th>\n",
       "      <th>order_status_key</th>\n",
       "      <th>is_driver_assigned_key</th>\n",
       "      <th>cancellations_time_in_seconds</th>\n",
       "    </tr>\n",
       "  </thead>\n",
       "  <tbody>\n",
       "    <tr>\n",
       "      <th>0</th>\n",
       "      <td>18:08:07</td>\n",
       "      <td>-0.978916</td>\n",
       "      <td>51.456173</td>\n",
       "      <td>60.0</td>\n",
       "      <td>3000583041974</td>\n",
       "      <td>4</td>\n",
       "      <td>1</td>\n",
       "      <td>198.0</td>\n",
       "    </tr>\n",
       "    <tr>\n",
       "      <th>1</th>\n",
       "      <td>20:57:32</td>\n",
       "      <td>-0.950385</td>\n",
       "      <td>51.456843</td>\n",
       "      <td>NaN</td>\n",
       "      <td>3000583116437</td>\n",
       "      <td>4</td>\n",
       "      <td>0</td>\n",
       "      <td>128.0</td>\n",
       "    </tr>\n",
       "  </tbody>\n",
       "</table>\n",
       "</div>"
      ],
      "text/plain": [
       "  order_datetime  origin_longitude  origin_latitude  m_order_eta  \\\n",
       "0       18:08:07         -0.978916        51.456173         60.0   \n",
       "1       20:57:32         -0.950385        51.456843          NaN   \n",
       "\n",
       "        order_gk  order_status_key  is_driver_assigned_key  \\\n",
       "0  3000583041974                 4                       1   \n",
       "1  3000583116437                 4                       0   \n",
       "\n",
       "   cancellations_time_in_seconds  \n",
       "0                          198.0  \n",
       "1                          128.0  "
      ]
     },
     "execution_count": 4,
     "metadata": {},
     "output_type": "execute_result"
    }
   ],
   "source": [
    "orders_df.head(2)"
   ]
  },
  {
   "cell_type": "code",
   "execution_count": 5,
   "id": "07982253",
   "metadata": {},
   "outputs": [],
   "source": [
    "# orders_df = pd.merge(orders_df, offers_df, on = 'order_gk', how = 'left')"
   ]
  },
  {
   "cell_type": "code",
   "execution_count": 6,
   "id": "e3c0c6b4",
   "metadata": {},
   "outputs": [],
   "source": [
    "# orders_df = orders_df[\n",
    "#     ['order_datetime', 'origin_longitude', 'origin_latitude', 'm_order_eta', 'order_gk', 'offer_id', 'order_status_key', 'is_driver_assigned_key', 'cancellations_time_in_seconds']\n",
    "# ]\n",
    "\n",
    "\n",
    "orders_df = orders_df[\n",
    "    ['order_datetime', 'origin_longitude', 'origin_latitude', 'm_order_eta', 'order_gk', 'order_status_key', 'is_driver_assigned_key', 'cancellations_time_in_seconds']\n",
    "]"
   ]
  },
  {
   "cell_type": "code",
   "execution_count": 7,
   "id": "f2ae221c",
   "metadata": {},
   "outputs": [],
   "source": [
    "orders_df = orders_df.rename({\"cancellations_time_in_seconds\": \"cancellation_time_in_seconds\"}, axis = 1)"
   ]
  },
  {
   "cell_type": "code",
   "execution_count": 8,
   "id": "56d74c5e",
   "metadata": {},
   "outputs": [
    {
     "name": "stderr",
     "output_type": "stream",
     "text": [
      "2024-01-12 19:41:09.389 \n",
      "  \u001b[33m\u001b[1mWarning:\u001b[0m to view this Streamlit app on a browser, run it with the following\n",
      "  command:\n",
      "\n",
      "    streamlit run D:\\py_projects\\realty_rental_analysis\\venv\\Lib\\site-packages\\ipykernel_launcher.py [ARGUMENTS]\n"
     ]
    }
   ],
   "source": [
    "show_nan(orders_df)"
   ]
  },
  {
   "cell_type": "code",
   "execution_count": 9,
   "id": "3af0af0b",
   "metadata": {},
   "outputs": [],
   "source": [
    "orders_df['order_status'] = orders_df.order_status_key.apply(lambda x: \"cancelled_by_client\" if x == 4 else \"cancelled_by_system\")"
   ]
  },
  {
   "cell_type": "code",
   "execution_count": 10,
   "id": "2282c163",
   "metadata": {},
   "outputs": [
    {
     "data": {
      "text/html": [
       "<div>\n",
       "<style scoped>\n",
       "    .dataframe tbody tr th:only-of-type {\n",
       "        vertical-align: middle;\n",
       "    }\n",
       "\n",
       "    .dataframe tbody tr th {\n",
       "        vertical-align: top;\n",
       "    }\n",
       "\n",
       "    .dataframe thead th {\n",
       "        text-align: right;\n",
       "    }\n",
       "</style>\n",
       "<table border=\"1\" class=\"dataframe\">\n",
       "  <thead>\n",
       "    <tr style=\"text-align: right;\">\n",
       "      <th></th>\n",
       "      <th></th>\n",
       "      <th>count</th>\n",
       "    </tr>\n",
       "    <tr>\n",
       "      <th>order_status_key</th>\n",
       "      <th>order_status</th>\n",
       "      <th></th>\n",
       "    </tr>\n",
       "  </thead>\n",
       "  <tbody>\n",
       "    <tr>\n",
       "      <th>4</th>\n",
       "      <th>cancelled_by_client</th>\n",
       "      <td>0.681878</td>\n",
       "    </tr>\n",
       "    <tr>\n",
       "      <th>9</th>\n",
       "      <th>cancelled_by_system</th>\n",
       "      <td>0.318122</td>\n",
       "    </tr>\n",
       "  </tbody>\n",
       "</table>\n",
       "</div>"
      ],
      "text/plain": [
       "                                         count\n",
       "order_status_key order_status                 \n",
       "4                cancelled_by_client  0.681878\n",
       "9                cancelled_by_system  0.318122"
      ]
     },
     "execution_count": 10,
     "metadata": {},
     "output_type": "execute_result"
    }
   ],
   "source": [
    "pd.DataFrame(orders_df[['order_status_key', 'order_status']].value_counts() / len(orders_df))"
   ]
  },
  {
   "cell_type": "code",
   "execution_count": 11,
   "id": "2ecc30c3",
   "metadata": {},
   "outputs": [],
   "source": [
    "# Offers are not applied on 9% of the total cancelled rides."
   ]
  },
  {
   "cell_type": "code",
   "execution_count": 12,
   "id": "bfd45706",
   "metadata": {},
   "outputs": [],
   "source": [
    "# Cancellation time in seconds --> Cancellation time in seconds by client."
   ]
  },
  {
   "cell_type": "code",
   "execution_count": 13,
   "id": "187d9bd2",
   "metadata": {},
   "outputs": [],
   "source": [
    "orders_df['m_order_eta_is_null'] = orders_df.m_order_eta.apply(lambda x: 1 if 'nan' in str(x).lower() else 0)"
   ]
  },
  {
   "cell_type": "code",
   "execution_count": 14,
   "id": "6ddb4ed4",
   "metadata": {},
   "outputs": [],
   "source": [
    "# orders_df.is_driver_assigned_key = orders_df.is_driver_assigned_key.apply(lambda x: str(x))"
   ]
  },
  {
   "cell_type": "code",
   "execution_count": 15,
   "id": "220772ff",
   "metadata": {},
   "outputs": [
    {
     "data": {
      "text/html": [
       "<div>\n",
       "<style scoped>\n",
       "    .dataframe tbody tr th:only-of-type {\n",
       "        vertical-align: middle;\n",
       "    }\n",
       "\n",
       "    .dataframe tbody tr th {\n",
       "        vertical-align: top;\n",
       "    }\n",
       "\n",
       "    .dataframe thead th {\n",
       "        text-align: right;\n",
       "    }\n",
       "</style>\n",
       "<table border=\"1\" class=\"dataframe\">\n",
       "  <thead>\n",
       "    <tr style=\"text-align: right;\">\n",
       "      <th></th>\n",
       "      <th></th>\n",
       "      <th>count</th>\n",
       "    </tr>\n",
       "    <tr>\n",
       "      <th>m_order_eta_is_null</th>\n",
       "      <th>is_driver_assigned_key</th>\n",
       "      <th></th>\n",
       "    </tr>\n",
       "  </thead>\n",
       "  <tbody>\n",
       "    <tr>\n",
       "      <th>1</th>\n",
       "      <th>0</th>\n",
       "      <td>0.737402</td>\n",
       "    </tr>\n",
       "    <tr>\n",
       "      <th>0</th>\n",
       "      <th>1</th>\n",
       "      <td>0.262598</td>\n",
       "    </tr>\n",
       "  </tbody>\n",
       "</table>\n",
       "</div>"
      ],
      "text/plain": [
       "                                               count\n",
       "m_order_eta_is_null is_driver_assigned_key          \n",
       "1                   0                       0.737402\n",
       "0                   1                       0.262598"
      ]
     },
     "execution_count": 15,
     "metadata": {},
     "output_type": "execute_result"
    }
   ],
   "source": [
    "pd.DataFrame(orders_df[['m_order_eta_is_null', 'is_driver_assigned_key']].value_counts()) / len(orders_df)"
   ]
  },
  {
   "cell_type": "code",
   "execution_count": 16,
   "id": "0bcfb43e",
   "metadata": {},
   "outputs": [],
   "source": [
    "# m_order_eta only when a driver is assigned."
   ]
  },
  {
   "cell_type": "code",
   "execution_count": 17,
   "id": "b27c4e4b",
   "metadata": {},
   "outputs": [],
   "source": [
    "orders_df = orders_df.drop(columns = ['order_status_key'])"
   ]
  },
  {
   "cell_type": "code",
   "execution_count": 18,
   "id": "fbc3531a",
   "metadata": {},
   "outputs": [
    {
     "data": {
      "text/plain": [
       "['order_datetime',\n",
       " 'origin_longitude',\n",
       " 'origin_latitude',\n",
       " 'm_order_eta',\n",
       " 'order_gk',\n",
       " 'is_driver_assigned_key',\n",
       " 'cancellation_time_in_seconds',\n",
       " 'order_status',\n",
       " 'm_order_eta_is_null']"
      ]
     },
     "execution_count": 18,
     "metadata": {},
     "output_type": "execute_result"
    }
   ],
   "source": [
    "orders_df.columns.values.tolist()"
   ]
  },
  {
   "cell_type": "code",
   "execution_count": 19,
   "id": "0dba6e09",
   "metadata": {},
   "outputs": [
    {
     "data": {
      "text/html": [
       "<div>\n",
       "<style scoped>\n",
       "    .dataframe tbody tr th:only-of-type {\n",
       "        vertical-align: middle;\n",
       "    }\n",
       "\n",
       "    .dataframe tbody tr th {\n",
       "        vertical-align: top;\n",
       "    }\n",
       "\n",
       "    .dataframe thead th {\n",
       "        text-align: right;\n",
       "    }\n",
       "</style>\n",
       "<table border=\"1\" class=\"dataframe\">\n",
       "  <thead>\n",
       "    <tr style=\"text-align: right;\">\n",
       "      <th></th>\n",
       "      <th></th>\n",
       "      <th>count</th>\n",
       "    </tr>\n",
       "    <tr>\n",
       "      <th>m_order_eta_is_null</th>\n",
       "      <th>order_status</th>\n",
       "      <th></th>\n",
       "    </tr>\n",
       "  </thead>\n",
       "  <tbody>\n",
       "    <tr>\n",
       "      <th rowspan=\"2\" valign=\"top\">1</th>\n",
       "      <th>cancelled_by_client</th>\n",
       "      <td>0.419560</td>\n",
       "    </tr>\n",
       "    <tr>\n",
       "      <th>cancelled_by_system</th>\n",
       "      <td>0.317842</td>\n",
       "    </tr>\n",
       "    <tr>\n",
       "      <th rowspan=\"2\" valign=\"top\">0</th>\n",
       "      <th>cancelled_by_client</th>\n",
       "      <td>0.262318</td>\n",
       "    </tr>\n",
       "    <tr>\n",
       "      <th>cancelled_by_system</th>\n",
       "      <td>0.000280</td>\n",
       "    </tr>\n",
       "  </tbody>\n",
       "</table>\n",
       "</div>"
      ],
      "text/plain": [
       "                                            count\n",
       "m_order_eta_is_null order_status                 \n",
       "1                   cancelled_by_client  0.419560\n",
       "                    cancelled_by_system  0.317842\n",
       "0                   cancelled_by_client  0.262318\n",
       "                    cancelled_by_system  0.000280"
      ]
     },
     "execution_count": 19,
     "metadata": {},
     "output_type": "execute_result"
    }
   ],
   "source": [
    "pd.DataFrame(orders_df[['m_order_eta_is_null', 'order_status']].value_counts() / len(orders_df))"
   ]
  },
  {
   "cell_type": "code",
   "execution_count": 20,
   "id": "b1226e3e",
   "metadata": {},
   "outputs": [],
   "source": [
    "stacked_bar_chart_ci_2(orders_df, 'm_order_eta_is_null', 'order_status')"
   ]
  },
  {
   "cell_type": "code",
   "execution_count": 21,
   "id": "1503f5aa",
   "metadata": {},
   "outputs": [],
   "source": [
    "# When a driver is assigned, most of the ride cancellations are done by the client."
   ]
  },
  {
   "cell_type": "code",
   "execution_count": 22,
   "id": "9b4ce94a",
   "metadata": {},
   "outputs": [
    {
     "data": {
      "text/html": [
       "<div>\n",
       "<style scoped>\n",
       "    .dataframe tbody tr th:only-of-type {\n",
       "        vertical-align: middle;\n",
       "    }\n",
       "\n",
       "    .dataframe tbody tr th {\n",
       "        vertical-align: top;\n",
       "    }\n",
       "\n",
       "    .dataframe thead th {\n",
       "        text-align: right;\n",
       "    }\n",
       "</style>\n",
       "<table border=\"1\" class=\"dataframe\">\n",
       "  <thead>\n",
       "    <tr style=\"text-align: right;\">\n",
       "      <th></th>\n",
       "      <th>cancellation_time_in_seconds</th>\n",
       "      <th>m_order_eta</th>\n",
       "    </tr>\n",
       "  </thead>\n",
       "  <tbody>\n",
       "    <tr>\n",
       "      <th>cancellation_time_in_seconds</th>\n",
       "      <td>1.000000</td>\n",
       "      <td>-0.038853</td>\n",
       "    </tr>\n",
       "    <tr>\n",
       "      <th>m_order_eta</th>\n",
       "      <td>-0.038853</td>\n",
       "      <td>1.000000</td>\n",
       "    </tr>\n",
       "  </tbody>\n",
       "</table>\n",
       "</div>"
      ],
      "text/plain": [
       "                              cancellation_time_in_seconds  m_order_eta\n",
       "cancellation_time_in_seconds                      1.000000    -0.038853\n",
       "m_order_eta                                      -0.038853     1.000000"
      ]
     },
     "execution_count": 22,
     "metadata": {},
     "output_type": "execute_result"
    }
   ],
   "source": [
    "orders_df[['cancellation_time_in_seconds', \"m_order_eta\"]].corr()"
   ]
  },
  {
   "cell_type": "code",
   "execution_count": 23,
   "id": "f5871274",
   "metadata": {},
   "outputs": [
    {
     "data": {
      "text/plain": [
       "['order_datetime',\n",
       " 'origin_longitude',\n",
       " 'origin_latitude',\n",
       " 'm_order_eta',\n",
       " 'order_gk',\n",
       " 'is_driver_assigned_key',\n",
       " 'cancellation_time_in_seconds',\n",
       " 'order_status',\n",
       " 'm_order_eta_is_null']"
      ]
     },
     "execution_count": 23,
     "metadata": {},
     "output_type": "execute_result"
    }
   ],
   "source": [
    "orders_df.columns.values.tolist()"
   ]
  },
  {
   "cell_type": "code",
   "execution_count": 24,
   "id": "5a23ce09",
   "metadata": {},
   "outputs": [],
   "source": [
    "# orders_df['is_no_offer'] = orders_df['offer_id'].apply(lambda x: '1' if 'nan' in str(x).lower() else '0')\n",
    "\n",
    "unique_offer_orders = offers_df.order_gk.unique()\n",
    "\n",
    "orders_df['is_no_offer'] = orders_df.order_gk.apply(lambda x: 1 if x not in unique_offer_orders else 0)"
   ]
  },
  {
   "cell_type": "code",
   "execution_count": 25,
   "id": "9044d104",
   "metadata": {},
   "outputs": [
    {
     "data": {
      "text/html": [
       "<div>\n",
       "<style scoped>\n",
       "    .dataframe tbody tr th:only-of-type {\n",
       "        vertical-align: middle;\n",
       "    }\n",
       "\n",
       "    .dataframe tbody tr th {\n",
       "        vertical-align: top;\n",
       "    }\n",
       "\n",
       "    .dataframe thead th {\n",
       "        text-align: right;\n",
       "    }\n",
       "</style>\n",
       "<table border=\"1\" class=\"dataframe\">\n",
       "  <thead>\n",
       "    <tr style=\"text-align: right;\">\n",
       "      <th></th>\n",
       "      <th></th>\n",
       "      <th>count</th>\n",
       "    </tr>\n",
       "    <tr>\n",
       "      <th>order_status</th>\n",
       "      <th>is_no_offer</th>\n",
       "      <th></th>\n",
       "    </tr>\n",
       "  </thead>\n",
       "  <tbody>\n",
       "    <tr>\n",
       "      <th>cancelled_by_client</th>\n",
       "      <th>0</th>\n",
       "      <td>0.532381</td>\n",
       "    </tr>\n",
       "    <tr>\n",
       "      <th>cancelled_by_system</th>\n",
       "      <th>0</th>\n",
       "      <td>0.177772</td>\n",
       "    </tr>\n",
       "    <tr>\n",
       "      <th>cancelled_by_client</th>\n",
       "      <th>1</th>\n",
       "      <td>0.149496</td>\n",
       "    </tr>\n",
       "    <tr>\n",
       "      <th>cancelled_by_system</th>\n",
       "      <th>1</th>\n",
       "      <td>0.140351</td>\n",
       "    </tr>\n",
       "  </tbody>\n",
       "</table>\n",
       "</div>"
      ],
      "text/plain": [
       "                                    count\n",
       "order_status        is_no_offer          \n",
       "cancelled_by_client 0            0.532381\n",
       "cancelled_by_system 0            0.177772\n",
       "cancelled_by_client 1            0.149496\n",
       "cancelled_by_system 1            0.140351"
      ]
     },
     "execution_count": 25,
     "metadata": {},
     "output_type": "execute_result"
    }
   ],
   "source": [
    "pd.DataFrame(orders_df[['order_status', 'is_no_offer']].value_counts() / len(orders_df))"
   ]
  },
  {
   "cell_type": "code",
   "execution_count": 26,
   "id": "cc6d5049",
   "metadata": {},
   "outputs": [],
   "source": [
    "stacked_bar_chart_ci_2(orders_df, 'order_status', 'is_no_offer')"
   ]
  },
  {
   "cell_type": "code",
   "execution_count": 27,
   "id": "85894963",
   "metadata": {},
   "outputs": [
    {
     "data": {
      "text/plain": [
       "['order_datetime',\n",
       " 'origin_longitude',\n",
       " 'origin_latitude',\n",
       " 'm_order_eta',\n",
       " 'order_gk',\n",
       " 'is_driver_assigned_key',\n",
       " 'cancellation_time_in_seconds',\n",
       " 'order_status',\n",
       " 'm_order_eta_is_null',\n",
       " 'is_no_offer']"
      ]
     },
     "execution_count": 27,
     "metadata": {},
     "output_type": "execute_result"
    }
   ],
   "source": [
    "orders_df.columns.values.tolist()"
   ]
  },
  {
   "cell_type": "code",
   "execution_count": 28,
   "id": "70dc997b",
   "metadata": {},
   "outputs": [
    {
     "data": {
      "text/plain": [
       "'\\n\\nFilters:\\n\\norder_datetime (slider)\\n\\nis_no_offer,\\n\\nis_driver_assigned_key,\\n\\norder_status\\n\\n\\nCalcs:\\n\\nm_order_eta kdeplot\\n\\ncancellation_time_in_seconds kdeplot\\n\\n\\n\\n'"
      ]
     },
     "execution_count": 28,
     "metadata": {},
     "output_type": "execute_result"
    }
   ],
   "source": [
    "'''\n",
    "\n",
    "Filters:\n",
    "\n",
    "order_datetime (slider)\n",
    "\n",
    "is_no_offer,\n",
    "\n",
    "is_driver_assigned_key,\n",
    "\n",
    "order_status\n",
    "\n",
    "\n",
    "Calcs:\n",
    "\n",
    "m_order_eta kdeplot\n",
    "\n",
    "cancellation_time_in_seconds kdeplot\n",
    "\n",
    "\n",
    "\n",
    "'''"
   ]
  },
  {
   "cell_type": "code",
   "execution_count": 29,
   "id": "b9ee5884",
   "metadata": {},
   "outputs": [
    {
     "data": {
      "text/plain": [
       "'\\n\\nWhen a driver is not assigned:\\n\\n\\nCancelled by client: 53 percent\\n\\n\\nCancelled by system: 47 percent\\n\\n\\n\\nWhen a driver is assigned:\\n\\n\\nCancelled by client: 99.94 percent\\n\\n\\nCancelled by system: 0.06 percent\\n\\n\\n'"
      ]
     },
     "execution_count": 29,
     "metadata": {},
     "output_type": "execute_result"
    }
   ],
   "source": [
    "'''\n",
    "\n",
    "When a driver is not assigned:\n",
    "\n",
    "\n",
    "Cancelled by client: 53 percent\n",
    "\n",
    "\n",
    "Cancelled by system: 47 percent\n",
    "\n",
    "\n",
    "\n",
    "When a driver is assigned:\n",
    "\n",
    "\n",
    "Cancelled by client: 99.94 percent\n",
    "\n",
    "\n",
    "Cancelled by system: 0.06 percent\n",
    "\n",
    "\n",
    "'''"
   ]
  },
  {
   "cell_type": "code",
   "execution_count": 30,
   "id": "a7d328f3",
   "metadata": {},
   "outputs": [],
   "source": [
    "# Seconds --> Minutes\n",
    "\n",
    "\n",
    "orders_df['cancellation_time_in_minutes'] = orders_df.cancellation_time_in_seconds.apply(lambda x: x / 60)\n",
    "\n",
    "\n",
    "orders_df['m_order_eta'] = orders_df.m_order_eta.apply(lambda x: x / 60)\n",
    "\n",
    "\n",
    "orders_df['hour'] = orders_df.order_datetime.apply(lambda x: int(x.split(\":\")[0]))\n"
   ]
  },
  {
   "cell_type": "code",
   "execution_count": 31,
   "id": "635e05cf",
   "metadata": {},
   "outputs": [
    {
     "data": {
      "text/plain": [
       "0        18:08:07\n",
       "1        20:57:32\n",
       "2        12:07:50\n",
       "3        13:50:20\n",
       "4        21:24:45\n",
       "           ...   \n",
       "10711    13:11:35\n",
       "10712    13:13:55\n",
       "10713    13:17:21\n",
       "10714    13:16:28\n",
       "10715    11:49:35\n",
       "Name: order_datetime, Length: 10716, dtype: object"
      ]
     },
     "execution_count": 31,
     "metadata": {},
     "output_type": "execute_result"
    }
   ],
   "source": [
    "orders_df.order_datetime"
   ]
  },
  {
   "cell_type": "code",
   "execution_count": null,
   "id": "4628f12b",
   "metadata": {},
   "outputs": [],
   "source": []
  }
 ],
 "metadata": {
  "kernelspec": {
   "display_name": "ml-env",
   "language": "python",
   "name": "ml-env"
  },
  "language_info": {
   "codemirror_mode": {
    "name": "ipython",
    "version": 3
   },
   "file_extension": ".py",
   "mimetype": "text/x-python",
   "name": "python",
   "nbconvert_exporter": "python",
   "pygments_lexer": "ipython3",
   "version": "3.11.4"
  }
 },
 "nbformat": 4,
 "nbformat_minor": 5
}
